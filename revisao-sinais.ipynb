{
 "cells": [
  {
   "attachments": {},
   "cell_type": "markdown",
   "metadata": {},
   "source": [
    "# Revisão de Sinais"
   ]
  },
  {
   "attachments": {},
   "cell_type": "markdown",
   "metadata": {},
   "source": [
    "Um sinal pode ser:\n",
    "\n",
    "**Contínuo** ou **discreto**:\n",
    "\n",
    "- Contínuo: existe para todo instante de tempo. Ex.: $x(t) = cos(t)$\n",
    "- Discreto: existe para instantes discretos de tempo. Ex.: $x_k = x(kT),\\;k=-3,-2,\\cdots,2,3,\\cdots,\\; T =$ intervalo de tempo fixo\n",
    "\n",
    "\n",
    "**Determinístico** ou **aleatório**:\n",
    "\n",
    "- Determinístico: Não existe nenhuma incerteza sobre seu valor em qualquer instante de tempo. Ex.: $x(t) = cos(t)$\n",
    "- Aleatório: Existe um grau de incerteza a priori (antes do sinal ocorrer). Ex.: $X(t,\\xi) = A(\\xi)cos(\\omega _0 t+\\theta(\\xi))$\n",
    "\n",
    "**Periódico** ou **aperiódico**:\n",
    "\n",
    "- Periódico: se existe $T_0 > 0$ tal que $x(t) = x(t+T_0) \\; \\forall t$. Ex.: $x(t) = cos(10t),\\;T_0=\\frac{2\\pi}{10}$\n",
    "- Aperiódico: se a condição acima não for satisfeita. Ex.: $x(t) = t$"
   ]
  },
  {
   "attachments": {},
   "cell_type": "markdown",
   "metadata": {},
   "source": [
    "Antes de definir sinais de energia e potência, é necessário relembrar o que é energia e potência.\n",
    "\n",
    "Seja $x(t)$ um sinal contínuo. A **potência instantânea** de $x(t)$ é definida como\n",
    "\n",
    "$$\\begin{aligned}\n",
    "p(t) = x^{2}(t).\n",
    "\\end{aligned}$$\n",
    "\n",
    "A **energia** do sinal no intervalo $[-T/2,T/2]$ é dada por\n",
    "\n",
    "$$\\begin{aligned}\n",
    "E_x^{T} = \\int_{-T/2}^{T/2}x^{2}(t)dt\n",
    "\\end{aligned}$$\n",
    "\n",
    "e a **energia total** do sistema será\n",
    "\n",
    "$$\\begin{aligned}\n",
    "E_x = \\lim_{T\\rightarrow \\infty }\\int_{-T/2}^{T/2}x^{2}(t)dt = \\int_{-\\infty}^{\\infty}x^{2}(t)dt\n",
    "\\end{aligned}$$"
   ]
  },
  {
   "attachments": {},
   "cell_type": "markdown",
   "metadata": {},
   "source": [
    "A **potência média do sinal no intervalo** $[-T/2,T/2]$ é\n",
    "\n",
    "$$\\begin{aligned}\n",
    "P_x^{T} = \\frac{1}{T}E_x^{T} = \\frac{1}{T} \\int_{-T/2}^{T/2}x^{2}(t)dt\n",
    "\\end{aligned}$$\n",
    "\n",
    "e a **potência média** é\n",
    "\n",
    "$$\\begin{aligned}\n",
    "P_x = \\lim_{T\\rightarrow \\infty }\\frac{1}{T}E_x^{T} = \\lim_{T\\rightarrow \\infty }\\frac{1}{T}\\int_{-T/2}^{T/2}x^{2}(t)dt\n",
    "\\end{aligned}$$"
   ]
  },
  {
   "attachments": {},
   "cell_type": "markdown",
   "metadata": {},
   "source": [
    "Um sinal $x(t)$ é dito **sinal de energia** se $0 < E_x < \\infty$. Ex.: alguns sinais determinísticos e não periódicos.\n",
    "\n",
    "Um sinal $x(t)$ é dito **sinal de potência** se $0 < P_x < \\infty$. Ex.: sinais periódicos e aleatórios.\n",
    "\n",
    "Obs.:\n",
    "- Se $E_x < 0$, então $P_x = 0$\n",
    "- Se $0 < P_x < \\infty$, então $E_x^{T}$ cresce linearmente com $T$\n",
    "- Um sinal não pode ser de energia e potência ao mesmo tempo"
   ]
  }
 ],
 "metadata": {
  "kernelspec": {
   "display_name": "Python 3 (ipykernel)",
   "language": "python",
   "name": "python3"
  },
  "orig_nbformat": 4
 },
 "nbformat": 4,
 "nbformat_minor": 2
}
